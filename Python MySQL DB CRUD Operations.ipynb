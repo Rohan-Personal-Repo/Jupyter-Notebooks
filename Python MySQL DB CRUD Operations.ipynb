{
 "cells": [
  {
   "cell_type": "markdown",
   "metadata": {},
   "source": [
    "###### Installation Softwares\n",
    "1. mySQL\n",
    "2. mySQL Workbench \n",
    "3. pip3 install mysql-connector"
   ]
  },
  {
   "cell_type": "markdown",
   "metadata": {},
   "source": [
    "###### Import mysql.connector and connect to DB with Credentials"
   ]
  },
  {
   "cell_type": "code",
   "execution_count": 1,
   "metadata": {},
   "outputs": [
    {
     "name": "stdout",
     "output_type": "stream",
     "text": [
      "<mysql.connector.connection.MySQLConnection object at 0x0000014812CF8518>\n"
     ]
    }
   ],
   "source": [
    "import mysql.connector as conn\n",
    "\n",
    "myDB = conn.connect(\n",
    "    host='localhost',\n",
    "    user='rdadmin@localhost',\n",
    "    passwd='rdadmin',\n",
    "#     user='root',\n",
    "#     passwd='root',\n",
    "    database='rddb'\n",
    ")\n",
    "\n",
    "print(myDB)"
   ]
  },
  {
   "cell_type": "markdown",
   "metadata": {},
   "source": [
    "###### Show tables in the 'rddb' Database"
   ]
  },
  {
   "cell_type": "code",
   "execution_count": 2,
   "metadata": {},
   "outputs": [
    {
     "name": "stdout",
     "output_type": "stream",
     "text": [
      "('customer',)\n"
     ]
    }
   ],
   "source": [
    "myCursor = myDB.cursor()\n",
    "\n",
    "myCursor.execute('show tables')\n",
    "for i in myCursor:\n",
    "    print(i)"
   ]
  },
  {
   "cell_type": "markdown",
   "metadata": {},
   "source": [
    "###### Select existing records from Customer table"
   ]
  },
  {
   "cell_type": "code",
   "execution_count": 4,
   "metadata": {},
   "outputs": [
    {
     "name": "stdout",
     "output_type": "stream",
     "text": [
      "('Rohan', 'Deshpande', 1)\n",
      "('Aniket', 'Atram', 2)\n",
      "('Shrikant', 'Dharmadhikari', 3)\n",
      "('Akhilesh', 'Dhages', 4)\n",
      "('Rishi', 'Deshmukh', 5)\n",
      "('John', 'Doe', 8)\n",
      "('Kate', 'Beckett', 9)\n",
      "('Damon', 'Salvatore', 10)\n"
     ]
    }
   ],
   "source": [
    "myCursor = myDB.cursor()\n",
    "\n",
    "myCursor.execute('select * from Customer')\n",
    "for i in myCursor:\n",
    "    print(i)"
   ]
  },
  {
   "cell_type": "markdown",
   "metadata": {},
   "source": [
    "###### Insert data into Customer table"
   ]
  },
  {
   "cell_type": "code",
   "execution_count": 55,
   "metadata": {},
   "outputs": [],
   "source": [
    "#  %s are placeholders\n",
    "sqlQuery = \"INSERT INTO CUSTOMER(custID,firstName,lastName) VALUES(%s,%s,%s)\"\n",
    "cust2 = (6,'Viraj','Deshpande')\n",
    "cust3 = (7,'Rajashri','Deshpande')\n",
    "\n",
    "myCursor.execute(sqlQuery,cust2)\n",
    "myCursor.execute(sqlQuery,cust3)\n",
    "\n",
    "# Execute as many times as needed but dont forget to commit otherwise it wont be saved\n",
    "myDB.commit()"
   ]
  },
  {
   "cell_type": "code",
   "execution_count": 56,
   "metadata": {},
   "outputs": [],
   "source": [
    "# %s is placeholders - No need for key as auto_increment\n",
    "sqlQuery = \"INSERT INTO CUSTOMER(firstName,lastName) VALUES(%s,%s)\"\n",
    "cust2 = ('Ruchita','Deshpande')\n",
    "\n",
    "myCursor.execute(sqlQuery,cust2)\n",
    "\n",
    "# Execute as many times as needed but dont forget to commit otherwise it wont be saved\n",
    "myDB.commit()"
   ]
  },
  {
   "cell_type": "markdown",
   "metadata": {},
   "source": [
    "###### Read data from DB - fetchone(1st row) or fetchall"
   ]
  },
  {
   "cell_type": "code",
   "execution_count": 3,
   "metadata": {},
   "outputs": [
    {
     "name": "stdout",
     "output_type": "stream",
     "text": [
      "('Rohan', 'Deshpande', 1)\n",
      "('Aniket', 'Atram', 2)\n",
      "('Shrikant', 'Dharmadhikari', 3)\n",
      "('Akhilesh', 'Dhages', 4)\n",
      "('Rishi', 'Deshmukh', 5)\n",
      "('Katherine', 'Beckett', 9)\n",
      "('Damon', 'Salvatore', 10)\n"
     ]
    }
   ],
   "source": [
    "myCursor.execute('select * from Customer')\n",
    "resultSet = myCursor.fetchall()\n",
    "for i in resultSet:\n",
    "    print(i)"
   ]
  },
  {
   "cell_type": "code",
   "execution_count": 58,
   "metadata": {},
   "outputs": [
    {
     "name": "stdout",
     "output_type": "stream",
     "text": [
      "('Rohan', 'Deshpande', 1)\n"
     ]
    }
   ],
   "source": [
    "myCursor.execute('select * from Customer')\n",
    "resultSet = myCursor.fetchone()\n",
    "print(resultSet)"
   ]
  },
  {
   "cell_type": "markdown",
   "metadata": {},
   "source": [
    "###### Insert multiple values into the DB - executemany - didnt work"
   ]
  },
  {
   "cell_type": "code",
   "execution_count": 70,
   "metadata": {},
   "outputs": [
    {
     "name": "stdout",
     "output_type": "stream",
     "text": [
      "[(8, 'John', 'Doe'), (9, 'Kate', 'Beckett'), (10, 'Damon', 'Salvatore')]\n",
      "-- [(8, 'John', 'Doe'), (9, 'Kate', 'Beckett'), (10, 'Damon', 'Salvatore')]\n"
     ]
    }
   ],
   "source": [
    "# %s is placeholders - No need for key as auto_increment\n",
    "sqlQuery = \"INSERT INTO CUSTOMER(custID,firstName,lastName) VALUES(%s,%s,%s)\"\n",
    "custList = [ (8,\"John\",\"Doe\"),(9,\"Kate\",\"Beckett\"), (10,\"Damon\",\"Salvatore\"), ]\n",
    "\n",
    "myCursor.executemany(sqlQuery,custList)\n",
    "\n",
    "# Execute as many times as needed but dont forget to commit otherwise it wont be saved\n",
    "myDB.commit()\n",
    "\n",
    "# myCursor.execute('select * from Customer')\n",
    "# resultSet = myCursor.fetchall()\n",
    "# for i in resultSet:\n",
    "#     print(i)"
   ]
  },
  {
   "cell_type": "markdown",
   "metadata": {},
   "source": [
    "###### Select with where clause"
   ]
  },
  {
   "cell_type": "code",
   "execution_count": 69,
   "metadata": {},
   "outputs": [
    {
     "name": "stdout",
     "output_type": "stream",
     "text": [
      "b4 :  2\n",
      "after :  -1\n",
      "rs :  [('Rohan', 'Deshpande', 1), ('Rishi', 'Deshmukh', 5)]\n",
      "('Rohan', 'Deshpande', 1)\n",
      "('Rishi', 'Deshmukh', 5)\n"
     ]
    }
   ],
   "source": [
    "print('b4 : ', myCursor.rowcount)\n",
    "myCursor.execute(\"select * from Customer where lastName like 'Desh%'\")\n",
    "print('after : ', myCursor.rowcount)\n",
    "resultSet = myCursor.fetchall()\n",
    "print('rs : ', resultSet)\n",
    "for i in resultSet:\n",
    "    print(i)"
   ]
  },
  {
   "cell_type": "markdown",
   "metadata": {},
   "source": [
    "###### Update data in our DB"
   ]
  },
  {
   "cell_type": "code",
   "execution_count": 8,
   "metadata": {},
   "outputs": [
    {
     "name": "stdout",
     "output_type": "stream",
     "text": [
      "('Katherine', 'Beckett', 9)\n"
     ]
    }
   ],
   "source": [
    "sqlQuery = \"UPDATE CUSTOMER SET firstName='Katherine' WHERE custID = 9\"\n",
    "\n",
    "myCursor.execute(sqlQuery)\n",
    "\n",
    "myDB.commit()\n",
    "\n",
    "myCursor.execute('select * from Customer where custID = 9')\n",
    "resultSet = myCursor.fetchone()\n",
    "print(resultSet)"
   ]
  },
  {
   "cell_type": "markdown",
   "metadata": {},
   "source": [
    "###### Limiting the no. of records - LIMIT "
   ]
  },
  {
   "cell_type": "code",
   "execution_count": 9,
   "metadata": {},
   "outputs": [
    {
     "name": "stdout",
     "output_type": "stream",
     "text": [
      "[('Rohan', 'Deshpande', 1), ('Aniket', 'Atram', 2), ('Shrikant', 'Dharmadhikari', 3), ('Akhilesh', 'Dhages', 4), ('Rishi', 'Deshmukh', 5)]\n"
     ]
    }
   ],
   "source": [
    "myCursor.execute('select * from Customer LIMIT 5')\n",
    "resultSet = myCursor.fetchall()\n",
    "print(resultSet)"
   ]
  },
  {
   "cell_type": "markdown",
   "metadata": {},
   "source": [
    "###### First 5 values in offsets - OFFSET"
   ]
  },
  {
   "cell_type": "code",
   "execution_count": 10,
   "metadata": {},
   "outputs": [
    {
     "name": "stdout",
     "output_type": "stream",
     "text": [
      "[('Shrikant', 'Dharmadhikari', 3), ('Akhilesh', 'Dhages', 4), ('Rishi', 'Deshmukh', 5), ('John', 'Doe', 8), ('Katherine', 'Beckett', 9)]\n"
     ]
    }
   ],
   "source": [
    "myCursor.execute('select * from Customer LIMIT 5 OFFSET 2')\n",
    "resultSet = myCursor.fetchall()\n",
    "print(resultSet)"
   ]
  },
  {
   "cell_type": "markdown",
   "metadata": {},
   "source": [
    "###### Order our results - Order By"
   ]
  },
  {
   "cell_type": "code",
   "execution_count": 13,
   "metadata": {},
   "outputs": [
    {
     "name": "stdout",
     "output_type": "stream",
     "text": [
      "[('Shrikant', 'Dharmadhikari', 3), ('Rohan', 'Deshpande', 1), ('Rishi', 'Deshmukh', 5), ('Katherine', 'Beckett', 9), ('John', 'Doe', 8), ('Damon', 'Salvatore', 10), ('Aniket', 'Atram', 2), ('Akhilesh', 'Dhages', 4)]\n"
     ]
    }
   ],
   "source": [
    "myCursor.execute('select * from Customer ORDER BY firstName DESC')\n",
    "resultSet = myCursor.fetchall()\n",
    "print(resultSet)"
   ]
  },
  {
   "cell_type": "markdown",
   "metadata": {},
   "source": [
    "###### Delete record "
   ]
  },
  {
   "cell_type": "code",
   "execution_count": 14,
   "metadata": {},
   "outputs": [
    {
     "name": "stdout",
     "output_type": "stream",
     "text": [
      "[('Shrikant', 'Dharmadhikari', 3), ('Rohan', 'Deshpande', 1), ('Rishi', 'Deshmukh', 5), ('Katherine', 'Beckett', 9), ('Damon', 'Salvatore', 10), ('Aniket', 'Atram', 2), ('Akhilesh', 'Dhages', 4)]\n"
     ]
    }
   ],
   "source": [
    "sqlQuery = \"DELETE FROM CUSTOMER WHERE custID = 8\"\n",
    "\n",
    "myCursor.execute(sqlQuery)\n",
    "\n",
    "myDB.commit()\n",
    "\n",
    "myCursor.execute('select * from Customer ORDER BY firstName DESC')\n",
    "resultSet = myCursor.fetchall()\n",
    "print(resultSet)"
   ]
  },
  {
   "cell_type": "markdown",
   "metadata": {},
   "source": [
    "###### Drop a table "
   ]
  },
  {
   "cell_type": "code",
   "execution_count": 20,
   "metadata": {},
   "outputs": [
    {
     "name": "stdout",
     "output_type": "stream",
     "text": [
      "B4 :  [('customer',), ('tab',)]\n",
      "After :  [('customer',)]\n"
     ]
    }
   ],
   "source": [
    "myCursor.execute('SHOW TABLES')\n",
    "resultSet = myCursor.fetchall()\n",
    "print('B4 : ', resultSet)\n",
    "\n",
    "sqlQuery = \"DROP TABLE IF EXISTS tab\"\n",
    "\n",
    "myCursor.execute(sqlQuery)\n",
    "\n",
    "myDB.commit()\n",
    "\n",
    "myCursor.execute('SHOW TABLES')\n",
    "resultSet = myCursor.fetchall()\n",
    "print('After : ', resultSet)"
   ]
  }
 ],
 "metadata": {
  "kernelspec": {
   "display_name": "Python 3",
   "language": "python",
   "name": "python3"
  },
  "language_info": {
   "codemirror_mode": {
    "name": "ipython",
    "version": 3
   },
   "file_extension": ".py",
   "mimetype": "text/x-python",
   "name": "python",
   "nbconvert_exporter": "python",
   "pygments_lexer": "ipython3",
   "version": "3.7.3"
  }
 },
 "nbformat": 4,
 "nbformat_minor": 2
}
